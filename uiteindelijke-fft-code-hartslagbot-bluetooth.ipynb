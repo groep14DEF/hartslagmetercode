{
 "cells": [
  {
   "cell_type": "code",
   "execution_count": 15,
   "id": "0ec459bb",
   "metadata": {},
   "outputs": [],
   "source": [
    "import serial\n",
    "import numpy as np\n",
    "import matplotlib.pyplot as plt\n",
    "import time"
   ]
  },
  {
   "cell_type": "code",
   "execution_count": 16,
   "id": "71af73b8",
   "metadata": {},
   "outputs": [
    {
     "name": "stderr",
     "output_type": "stream",
     "text": [
      "/tmp/ipykernel_8453/2506619966.py:58: FutureWarning: is_connected has been changed to a property. Calling it as an async method will be removed in a future version\n",
      "  print(client.is_connected())\n",
      "/tmp/ipykernel_8453/2506619966.py:60: FutureWarning: This method will be removed future version, use the services property instead.\n",
      "  await client.get_services()\n"
     ]
    },
    {
     "name": "stdout",
     "output_type": "stream",
     "text": [
      "<Future finished result=True>\n",
      "Services:\n",
      "0000ffe0-0000-1000-8000-00805f9b34fb (Handle: 16): Vendor specific\n",
      "00001801-0000-1000-8000-00805f9b34fb (Handle: 12): Generic Attribute Profile\n",
      "Characteristics:\n",
      "0000ffe1-0000-1000-8000-00805f9b34fb (Handle: 17): Vendor specific\n",
      "00002a05-0000-1000-8000-00805f9b34fb (Handle: 13): Service Changed\n"
     ]
    }
   ],
   "source": [
    "import asyncio\n",
    "import time\n",
    "from bleak import BleakScanner, BleakClient\n",
    "\n",
    "address = \"00:35:FF:13:A3:76\"\n",
    "characteristic = \"0000FFE1-0000-1000-8000-00805F9B34FB\"\n",
    "\n",
    "\n",
    "def parses_as_float(s):\n",
    "    try :\n",
    "        float(s)\n",
    "        return True\n",
    "    except :\n",
    "        return False\n",
    "\n",
    "log = bytearray()\n",
    "\n",
    "def callback_raw_string(x,y):\n",
    "    log.extend(y)\n",
    "\n",
    "\n",
    "def parse_buffer(buffer):\n",
    "    string_buffer = bytearray.decode(buffer)\n",
    "    time_buffer = []\n",
    "    voltage_buffer = []\n",
    "    lines = string_buffer.splitlines()\n",
    "    for l in lines:\n",
    "        split = l.split(\",\")\n",
    "        if len(split) == 2:\n",
    "            (time, voltage) = split[0], split[1]\n",
    "            if parses_as_float(time) and parses_as_float(voltage):\n",
    "                t = float(time)\n",
    "                time_buffer.append(t)\n",
    "                voltage_buffer.append(float(voltage))\n",
    "    return (time_buffer,voltage_buffer)\n",
    "\n",
    "# def callback(x,y):\n",
    "#     received_str = bytearray.decode(y)\n",
    "#     lines = received_str.splitlines()\n",
    "#     for l in lines:\n",
    "#         split = l.split(\",\")\n",
    "#         if len(split) == 2:\n",
    "#             (time, voltage) = split[0], split[1]\n",
    "#             if parse_as_float(time) and parse_as_float(voltage):\n",
    "                    \n",
    "#             t = float(time) / 1000.0\n",
    "#             time_buffer.append(t)\n",
    "#             voltage_buffer.append(float(voltage))\n",
    "#     print(lines)\n",
    "#     print(len(time_buffer))\n",
    "    # numbers = list(map(lambda x: float(x), filter(lambda x: parses_as_float(x),lines)))\n",
    "\n",
    "    # log.extend(numbers)\n",
    "    # print(numbers,len(log))\n",
    "\n",
    "async def main(address):\n",
    "    async with BleakClient(address) as client:\n",
    "        print(client.is_connected())\n",
    "        # await client.pair()\n",
    "        await client.get_services()\n",
    "        print(\"Services:\")\n",
    "        for (k,s) in client.services.services.items():\n",
    "            print(s)\n",
    "        print(\"Characteristics:\")\n",
    "        for (k,s) in client.services.characteristics.items():\n",
    "            print(s)\n",
    "        start_time = time.time()\n",
    "        execution_time = 0\n",
    "        while execution_time < 30.0:\n",
    "            await client.start_notify(characteristic,callback_raw_string)\n",
    "            execution_time = (time.time() - start_time)\n",
    "        (time_buffer,voltage_buffer) = parse_buffer(log)\n",
    "        return (np.array(time_buffer),np.array(voltage_buffer))\n",
    "        # client.unpair()\n",
    "        # print(\"Model Number: {0}\".format(\"\".join(map(chr, model_number))))\n",
    "\n",
    "\n",
    "(time_buffer,voltage_buffer) = await main(address)"
   ]
  },
  {
   "cell_type": "code",
   "execution_count": 17,
   "id": "206a6d09",
   "metadata": {},
   "outputs": [
    {
     "data": {
      "text/plain": [
       "(array([ 1.31,  1.36,  1.38, ..., 27.06, 27.08, 27.1 ]),\n",
       " array([2.42, 2.31, 2.31, ..., 2.36, 2.37, 2.39]),\n",
       " 1079,\n",
       " 1079)"
      ]
     },
     "execution_count": 17,
     "metadata": {},
     "output_type": "execute_result"
    }
   ],
   "source": [
    "time_buffer,voltage_buffer, len(time_buffer),len(voltage_buffer)"
   ]
  },
  {
   "cell_type": "code",
   "execution_count": 18,
   "id": "4db03d43",
   "metadata": {},
   "outputs": [],
   "source": [
    "N_samples = min(len(time_buffer),len(voltage_buffer))-1\n",
    "time_buffer = time_buffer[:N_samples]\n",
    "voltage_buffer = voltage_buffer[:N_samples]"
   ]
  },
  {
   "cell_type": "code",
   "execution_count": null,
   "id": "ff0be7b6",
   "metadata": {},
   "outputs": [],
   "source": []
  },
  {
   "cell_type": "code",
   "execution_count": 19,
   "id": "0d26b765",
   "metadata": {},
   "outputs": [],
   "source": [
    "# ser = serial.Serial(\n",
    "#     # Serial Port to read the data from\n",
    "#     port='/dev/ttyACM0',\n",
    "#     baudrate=9600,\n",
    "#     parity=serial.PARITY_NONE,\n",
    "#     stopbits=serial.STOPBITS_TWO,\n",
    "#     bytesize=serial.EIGHTBITS,\n",
    "#     timeout=None\n",
    "# )"
   ]
  },
  {
   "cell_type": "code",
   "execution_count": 20,
   "id": "acf19ce2",
   "metadata": {},
   "outputs": [],
   "source": [
    "def sample_buffer(n):\n",
    "    time_buffer = []\n",
    "    voltage_buffer = []\n",
    "#     first = True\n",
    "#     offset = 0.0\n",
    "    while len(time_buffer) < n:\n",
    "        line = ser.readline()\n",
    "        if line:\n",
    "            # Converting Byte Strings into unicode strings\n",
    "            string = line.decode()\n",
    "#             print(string)\n",
    "            filter_string = '\\n\\r'\n",
    "            string = \"\".join(filter(lambda c: c not in filter_string, string))\n",
    "            split = string.split(\",\")\n",
    "            if len(split) == 2:\n",
    "                (time,voltage) = split[0],split[1]\n",
    "                t = float(time)/1000.0\n",
    "#                 if first:\n",
    "#                     offset = t\n",
    "#                     first = False\n",
    "                # Converting Unicode String into integer\n",
    "                time_buffer.append(t)\n",
    "#                 time_buffer.append(t-offset)\n",
    "        \n",
    "                voltage_buffer.append(float(voltage))\n",
    "    return (np.array(time_buffer), np.array(voltage_buffer))"
   ]
  },
  {
   "cell_type": "code",
   "execution_count": null,
   "id": "05ba0861",
   "metadata": {},
   "outputs": [],
   "source": []
  },
  {
   "cell_type": "code",
   "execution_count": 21,
   "id": "c68a6e7d",
   "metadata": {},
   "outputs": [
    {
     "data": {
      "text/plain": [
       "(array([2.000e-02, 4.000e-02, 6.000e-02, ..., 2.567e+01, 2.570e+01,\n",
       "        2.572e+01]),\n",
       " array([2.31, 2.33, 2.35, ..., 2.37, 2.36, 2.37]),\n",
       " 1076,\n",
       " 1076)"
      ]
     },
     "execution_count": 21,
     "metadata": {},
     "output_type": "execute_result"
    }
   ],
   "source": [
    "N = N_samples-2\n",
    "# line = ser.readline()\n",
    "# ser.reset_input_buffer()\n",
    "# ser.flush()\n",
    "# startTime = time.time()\n",
    "(time_samples, buffer) = (time_buffer,voltage_buffer)\n",
    "\n",
    "# executionTime = (time.time() - startTime)\n",
    "# ser.reset_input_buffer()\n",
    "# ser.flush()\n",
    "first_time = time_samples[1]\n",
    "time_samples = time_samples[2:]-first_time\n",
    "buffer = buffer[2:]\n",
    "time_samples, buffer,len(time_samples),len(buffer)"
   ]
  },
  {
   "cell_type": "code",
   "execution_count": 22,
   "id": "7d081b2a",
   "metadata": {},
   "outputs": [
    {
     "data": {
      "text/plain": [
       "[<matplotlib.lines.Line2D at 0x7f2a65b10790>]"
      ]
     },
     "execution_count": 22,
     "metadata": {},
     "output_type": "execute_result"
    },
    {
     "data": {
      "image/png": "[encoded data removed]",
      "text/plain": [
       "<Figure size 432x288 with 1 Axes>"
      ]
     },
     "metadata": {},
     "output_type": "display_data"
    }
   ],
   "source": [
    "plt.plot(time_samples,buffer)"
   ]
  },
  {
   "cell_type": "code",
   "execution_count": 23,
   "id": "02e9ade9",
   "metadata": {},
   "outputs": [
    {
     "data": {
      "text/plain": [
       "(0.019999999999999796, 25.72, 25.7, 1076)"
      ]
     },
     "execution_count": 23,
     "metadata": {},
     "output_type": "execute_result"
    }
   ],
   "source": [
    "start_time = np.min(time_samples)\n",
    "end_time = np.max(time_samples)\n",
    "delta = (end_time-start_time)\n",
    "start_time,end_time,delta,N"
   ]
  },
  {
   "cell_type": "code",
   "execution_count": 24,
   "id": "90c4aa87",
   "metadata": {},
   "outputs": [
    {
     "data": {
      "text/plain": [
       "(array([0.00000000e+00, 1.19479312e-02, 2.38958624e-02, ...,\n",
       "        2.56761041e+01, 2.56880521e+01, 2.57000000e+01]),\n",
       " 2152,\n",
       " 41.86770428015564)"
      ]
     },
     "execution_count": 24,
     "metadata": {},
     "output_type": "execute_result"
    }
   ],
   "source": [
    "oversampling_factor = 2\n",
    "M = N*oversampling_factor\n",
    "f_s = N/delta\n",
    "times = np.linspace(0,delta,M)\n",
    "resampled = np.interp(times,time_samples-start_time,buffer)\n",
    "times,M,f_s"
   ]
  },
  {
   "cell_type": "code",
   "execution_count": 25,
   "id": "f0b023b7",
   "metadata": {
    "scrolled": true
   },
   "outputs": [
    {
     "data": {
      "image/png": "[encoded data removed]",
      "text/plain": [
       "<Figure size 432x288 with 1 Axes>"
      ]
     },
     "metadata": {},
     "output_type": "display_data"
    }
   ],
   "source": [
    "plt.style.use('seaborn-whitegrid')\n",
    "plt.plot(times,resampled)\n",
    "plt.xlabel('t')\n",
    "plt.ylabel('Voltage')\n",
    "plt.savefig('signal.png',transparent=False)"
   ]
  },
  {
   "cell_type": "code",
   "execution_count": 26,
   "id": "83b1a93e",
   "metadata": {},
   "outputs": [
    {
     "name": "stdout",
     "output_type": "stream",
     "text": [
      "AAA\n",
      "1076\n"
     ]
    },
    {
     "data": {
      "text/plain": [
       "(41.86770428015564, 1076)"
      ]
     },
     "execution_count": 26,
     "metadata": {},
     "output_type": "execute_result"
    },
    {
     "data": {
      "image/png": "[encoded data removed]",
      "text/plain": [
       "<Figure size 432x288 with 1 Axes>"
      ]
     },
     "metadata": {},
     "output_type": "display_data"
    }
   ],
   "source": [
    "plt.style.use('seaborn-whitegrid')\n",
    "fourier = np.fft.fft(resampled-2.5)[0:round(M/2)]\n",
    "amplitudes = np.abs(fourier)/M\n",
    "print(\"AAA\")\n",
    "print(len(amplitudes))\n",
    "plt.plot(np.linspace(0,f_s,N),amplitudes)\n",
    "plt.xlabel('f')\n",
    "plt.ylabel('Voltage')\n",
    "# plt.show()\n",
    "plt.savefig('spectrum.png',transparent=False)\n",
    "f_s,N"
   ]
  },
  {
   "cell_type": "code",
   "execution_count": 27,
   "id": "636d7661",
   "metadata": {},
   "outputs": [
    {
     "name": "stdout",
     "output_type": "stream",
     "text": [
      "n: 1076; n/2: 538.0\n",
      "Peak nonzero bin: 33; Run time: 25.7\n"
     ]
    }
   ],
   "source": [
    "def bin_to_freq(fft_bin,f_s,N):\n",
    "    return fft_bin*(f_s/N)\n",
    "def freq_to_bin(f,f_s,N):\n",
    "    return round(N*f/f_s)\n",
    "cutoff_bin = freq_to_bin(200.0/60.0,f_s,N)\n",
    "peak_nonzero_bin = np.argmax(amplitudes[1:cutoff_bin])\n",
    "print(\"n: {}; n/2: {}\".format(N,N/2))\n",
    "print(\"Peak nonzero bin: {}; Run time: {}\".format(peak_nonzero_bin,delta))"
   ]
  },
  {
   "cell_type": "code",
   "execution_count": 29,
   "id": "25ca98e6",
   "metadata": {},
   "outputs": [
    {
     "name": "stdout",
     "output_type": "stream",
     "text": [
      "Peak frequency (Hz): 1.3 +- 0.0195; Peak frequency (BPM): 78.2 +- 2.33\n"
     ]
    }
   ],
   "source": [
    "peak_freq = bin_to_freq(peak_nonzero_bin,f_s,N)\n",
    "bin_size = f_s/N\n",
    "mid = peak_freq + bin_size/2.0\n",
    "spread = bin_size/2.0\n",
    "\n",
    "bpm_mid = mid*60.0\n",
    "bpm_spread = bin_size*60.0\n",
    "bpm = peak_freq*60.0\n",
    "print(\"Peak frequency (Hz): {:.3g} +- {:.3g}; Peak frequency (BPM): {:.3g} +- {:.3g}\".format(mid,spread,bpm_mid,bpm_spread))"
   ]
  },
  {
   "cell_type": "code",
   "execution_count": 30,
   "id": "17dbd2c2",
   "metadata": {},
   "outputs": [],
   "source": [
    "import tweepy\n",
    "import json"
   ]
  },
  {
   "cell_type": "code",
   "execution_count": 31,
   "id": "033c3d5e",
   "metadata": {
    "scrolled": true
   },
   "outputs": [
    {
     "name": "stdout",
     "output_type": "stream",
     "text": [
      "Media(_api=<tweepy.api.API object at 0x7f2a655edc60>, media_id=1588455419357396993, media_id_string='1588455419357396993', size=27452, expires_after_secs=86400, image={'image_type': 'image/png', 'w': 432, 'h': 288})\n",
      "Media(_api=<tweepy.api.API object at 0x7f2a655edc60>, media_id=1588455421286703108, media_id_string='1588455421286703108', size=10425, expires_after_secs=86400, image={'image_type': 'image/png', 'w': 432, 'h': 288})\n",
      "Response(data={'id': '1588455423081955331', 'text': 'Current BPM: 77 https://t.co/fcXJfUV9hy'}, includes={}, errors=[], meta={})\n"
     ]
    }
   ],
   "source": [
    "with open(\"config.json\") as file:\n",
    "    config = json.load(file)\n",
    "\n",
    "CONSUMER_KEY = config[\"CONSUMER_KEY\"]\n",
    "CONSUMER_SECRET= config[\"CONSUMER_SECRET\"]\n",
    "ACCESS_TOKEN= config[\"ACCESS_TOKEN\"]\n",
    "ACCESS_TOKEN_SECRET= config[\"ACCESS_TOKEN_SECRET\"]\n",
    "BEARER_TOKEN = config[\"BEARER_TOKEN\"]\n",
    "\n",
    "client = tweepy.Client(bearer_token=BEARER_TOKEN,\n",
    "                       consumer_key=CONSUMER_KEY,\n",
    "                       consumer_secret=CONSUMER_SECRET,\n",
    "                       access_token=ACCESS_TOKEN,\n",
    "                       access_token_secret=ACCESS_TOKEN_SECRET)\n",
    "\n",
    "# authorization of consumer key and consumer secret\n",
    "auth = tweepy.OAuthHandler(CONSUMER_KEY, CONSUMER_SECRET)\n",
    "  \n",
    "# set access to user's access key and access secret \n",
    "auth.set_access_token(ACCESS_TOKEN, ACCESS_TOKEN_SECRET)\n",
    "\n",
    "# calling the api \n",
    "api = tweepy.API(auth)\n",
    "  \n",
    "# the text to be tweeted\n",
    "status = \"Current BPM: {}\".format(round(bpm))\n",
    "  \n",
    "# the path of the media to be uploaded\n",
    "text = \"Current BPM: {}\".format(round(bpm))\n",
    "\n",
    "filename1 = \"signal.png\"\n",
    "media1 = api.media_upload(filename1)\n",
    "filename2 = \"spectrum.png\"\n",
    "media2 = api.media_upload(filename2)\n",
    "print(media1)\n",
    "print(media2)\n",
    "# posting the tweet\n",
    "\n",
    "# api.update_with_media(filename, status)\n",
    "\n",
    "response = client.create_tweet(text=text,media_ids= [media1.media_id_string,media2.media_id_string])\n",
    "print(response)\n"
   ]
  },
  {
   "cell_type": "code",
   "execution_count": 17,
   "id": "5b8a23dc",
   "metadata": {
    "scrolled": true
   },
   "outputs": [],
   "source": [
    "\n",
    "# import bluetooth\n",
    "\n",
    "# print(\"Performing inquiry...\")\n",
    "\n",
    "# nearby_devices = bluetooth.discover_devices(duration=8, lookup_names=True,\n",
    "#                                             flush_cache=True, device_id='00:35:FF:13:A3:76',lookup_class=False)\n",
    "\n",
    "# print(\"Found {} devices\".format(len(nearby_devices)))\n",
    "\n",
    "# for addr, name in nearby_devices:\n",
    "#     try:\n",
    "#         print(\"   {} - {}\".format(addr, name))\n",
    "#     except UnicodeEncodeError:\n",
    "#         print(\"   {} - {}\".format(addr, name.encode(\"utf-8\", \"replace\")))"
   ]
  },
  {
   "cell_type": "code",
   "execution_count": 18,
   "id": "0dfb8caa",
   "metadata": {},
   "outputs": [],
   "source": [
    "# import socket\n",
    "\n",
    "# baddr = '00:35:FF:13:A3:76'\n",
    "# channel = 4\n",
    "# s = socket.socket(socket.AF_BLUETOOTH, socket.SOCK_STREAM, \n",
    "# socket.BTPROTO_RFCOMM)\n",
    "# s.connect((baddr,channel))\n",
    "# s_sock = server_sock.accept()\n",
    "# print (\"Accepted connection from \"+address)\n",
    "\n",
    "# data = s_sock.recv(1024)\n",
    "# print (\"received [%s]\" % data)\n",
    "\n",
    "# s.listen(1)"
   ]
  },
  {
   "cell_type": "code",
   "execution_count": null,
   "id": "5e925d9d",
   "metadata": {},
   "outputs": [],
   "source": []
  }
 ],
 "metadata": {
  "kernelspec": {
   "display_name": "Python 3 (ipykernel)",
   "language": "python",
   "name": "python3"
  },
  "language_info": {
   "codemirror_mode": {
    "name": "ipython",
    "version": 3
   },
   "file_extension": ".py",
   "mimetype": "text/x-python",
   "name": "python",
   "nbconvert_exporter": "python",
   "pygments_lexer": "ipython3",
   "version": "3.10.6"
  }
 },
 "nbformat": 4,
 "nbformat_minor": 5
}
